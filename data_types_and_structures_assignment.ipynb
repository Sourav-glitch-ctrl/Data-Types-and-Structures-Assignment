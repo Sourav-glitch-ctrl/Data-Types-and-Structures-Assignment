{
  "nbformat": 4,
  "nbformat_minor": 0,
  "metadata": {
    "colab": {
      "provenance": []
    },
    "kernelspec": {
      "name": "python3",
      "display_name": "Python 3"
    },
    "language_info": {
      "name": "python"
    }
  },
  "cells": [
    {
      "cell_type": "markdown",
      "source": [
        "#Data Types and Structures Assignment\n",
        "##Theoretical Questions\n",
        "###1. What are data structures, and why are they important?\n",
        "- Data structures are ways to organize and store data in a computer so it can be used efficiently. They’re important because the right structure makes programs faster, easier to maintain, and more memory-efficient. Examples: lists, dictionaries, sets, tuples.\n",
        "\n",
        "###2. Difference between mutable and immutable data types with examples:\n",
        "\n",
        "- Mutable: Can be changed after creation. Example: list1 = [1, 2]; list1[0] = 10 = [10, 2].\n",
        "\n",
        "- Immutable: Cannot be changed after creation. Example: str1 = \"hi\"; str1[0] = \"H\" is error.\n",
        "\n",
        "###3. Main differences between lists and tuples in Python:\n",
        "\n",
        "- Lists: Mutable, use square brackets [], slower, more flexible.\n",
        "\n",
        "- Tuples: Immutable, use parentheses (), faster, good for fixed data.\n",
        "\n",
        "###4. How dictionaries store data:\n",
        "- Dictionaries store data as key–value pairs using a hash table. The key is hashed into an index, and the value is stored at that index for fast lookup.\n",
        "\n",
        "###5. Why use a set instead of a list in Python?\n",
        "- Sets automatically remove duplicates and allow fast membership checks (in). Perfect when you need unique items only.\n",
        "\n",
        "###6. What is a string in Python, and how is it different from a list?\n",
        "- A string is a sequence of characters (immutable). A list can store any type of objects and is mutable. You can change list elements but not string characters.\n",
        "\n",
        "###7. How tuples ensure data integrity in Python?\n",
        "- Because tuples are immutable, their data can’t be changed after creation, preventing accidental modifications.\n",
        "\n",
        "###8. What is a hash table, and how does it relate to dictionaries in Python?\n",
        "- A hash table maps keys to values using a hash function for quick lookups. Python dictionaries are built using hash tables.\n",
        "\n",
        "###9. Can lists contain different data types in Python?\n",
        "- Yes. Example: my_list = [1, \"hello\", 3.5, True].\n",
        "\n",
        "###10. Why are strings immutable in Python?\n",
        "- Strings are immutable for efficiency and security — Python can store and reuse them safely without unexpected changes.\n",
        "\n",
        "###11. What advantages do dictionaries offer over lists for certain tasks?\n",
        "- Advantages of dictionaries over lists for certain tasks:\n",
        "Faster lookups by key\n",
        "More descriptive data access (using names instead of indexes)\n",
        "\n",
        "###12. Describe a scenario where using a tuple would be preferable over a listP\n",
        "- Scenario where a tuple is preferable over a list:\n",
        "Storing coordinates (x, y), RGB color values, or config settings that shouldn’t change.\n",
        "\n",
        "###13. How sets handle duplicate values in Python?\n",
        "- Sets ignore duplicates automatically. {1, 2, 2} → {1, 2}.\n",
        "\n",
        "###14. How the “in” keyword works differently for lists and dictionaries?\n",
        "\n",
        "- List: Checks if the value is in the list.\n",
        "\n",
        "- Dictionary: Checks if the value exists as a key, not a value.\n",
        "\n",
        "###15. Can you modify elements of a tuple? Explain Why or why not?\n",
        "- No, tuples are immutable — once created, their contents cannot change.\n",
        "\n",
        "###16.What is a nested dictionary, and give an example of its use case?\n",
        "- A dictionary inside another dictionary.\n",
        "- students = {\n",
        "    \"Alice\": {\"age\": 20, \"grade\": \"A\"},\n",
        "    \"Bob\": {\"age\": 22, \"grade\": \"B\"}\n",
        "}\n",
        "\n",
        "###17. Describe the time complexity of accessing elements in a dictionary?\n",
        "- Time complexity of accessing elements in a dictionary:\n",
        "Average case: O(1) (constant time) because of hash table lookups.\n",
        "\n",
        "###18. In what situations are lists preferred over dictionaries?\n",
        "- Situations where lists are preferred over dictionaries:\n",
        "When order matters, or when you don’t need key–value pairing. Eg- storing a list of numbers or names.\n",
        "\n",
        "###19. Why are dictionaries considered unordered, and how does that affect data retrieval?\n",
        "- They store items by hash index, not insertion order. In Python 3.7+, they maintain insertion order, but it’s still not used for indexing.\n",
        "\n",
        "###20. Explain the difference between a list and a dictionary in terms of data retrieval.\n",
        "Difference between a list and a dictionary in terms of data retrieval:\n",
        "- List: Retrieve by index (position) → slower for searching.\n",
        "- Dictionary: Retrieve by key → faster and more direct.\n",
        "\n",
        "\n",
        "\n",
        "\n",
        "##Practical Questions"
      ],
      "metadata": {
        "id": "yEA7hSUiFNKd"
      }
    },
    {
      "cell_type": "code",
      "execution_count": null,
      "metadata": {
        "colab": {
          "base_uri": "https://localhost:8080/"
        },
        "id": "rlEoQLSIE2Np",
        "outputId": "406d9f30-0878-4632-b43b-b765ba2028dd"
      },
      "outputs": [
        {
          "output_type": "stream",
          "name": "stdout",
          "text": [
            "Enter Your name:Sourav\n",
            "Sourav\n"
          ]
        }
      ],
      "source": [
        "#1. Write a code to create a string with your name and print it.\n",
        "\n",
        "name= input(\"Enter Your name:\")\n",
        "print(name)"
      ]
    },
    {
      "cell_type": "code",
      "source": [
        "#2. Write a code to find the length of the string \"Hello World\".\n",
        "\n",
        "new_str= \"Hello World\"\n",
        "print(len(new_str))"
      ],
      "metadata": {
        "colab": {
          "base_uri": "https://localhost:8080/"
        },
        "id": "kyMWghABFnXw",
        "outputId": "22740035-117b-4401-9286-ff34b89d41ff"
      },
      "execution_count": null,
      "outputs": [
        {
          "output_type": "stream",
          "name": "stdout",
          "text": [
            "11\n"
          ]
        }
      ]
    },
    {
      "cell_type": "code",
      "source": [
        "#3. Write a code to slice the first 3 characters from the string \"Python Programming\".\n",
        "\n",
        "new= \"Python Programming\"\n",
        "print(new[0:3])"
      ],
      "metadata": {
        "colab": {
          "base_uri": "https://localhost:8080/"
        },
        "id": "PRfnWPY3Fna0",
        "outputId": "294474ee-9c37-4976-e823-d230ad2d1ac7"
      },
      "execution_count": null,
      "outputs": [
        {
          "output_type": "stream",
          "name": "stdout",
          "text": [
            "Pyt\n"
          ]
        }
      ]
    },
    {
      "cell_type": "code",
      "source": [
        "#4. Write a code to convert the string \"hello\" to uppercase.\n",
        "\n",
        "a= \"hello\"\n",
        "print(a.upper())"
      ],
      "metadata": {
        "colab": {
          "base_uri": "https://localhost:8080/"
        },
        "id": "r3g8R6coFnd9",
        "outputId": "e1ca7d79-c754-46c1-91bd-83be76f485c1"
      },
      "execution_count": null,
      "outputs": [
        {
          "output_type": "stream",
          "name": "stdout",
          "text": [
            "HELLO\n"
          ]
        }
      ]
    },
    {
      "cell_type": "code",
      "source": [
        "#5. Write a code to replace the word \"apple\" with \"orange\" in the string \"I like apple\".\n",
        "b= \"I like apple.\"\n",
        "print(b.replace(\"apple\",\"orange\"))"
      ],
      "metadata": {
        "colab": {
          "base_uri": "https://localhost:8080/"
        },
        "id": "qTPh2VTPFngx",
        "outputId": "67de8c99-c917-48bc-a5f9-fa2d26300878"
      },
      "execution_count": null,
      "outputs": [
        {
          "output_type": "stream",
          "name": "stdout",
          "text": [
            "I like orange.\n"
          ]
        }
      ]
    },
    {
      "cell_type": "code",
      "source": [
        "#6. Write a code to create a list with numbers 1 to 5 and print it.\n",
        "\n",
        "a=list(range(1,6))\n",
        "a\n"
      ],
      "metadata": {
        "colab": {
          "base_uri": "https://localhost:8080/"
        },
        "id": "aanZcA-kFnj0",
        "outputId": "01d647cf-7fb3-4920-f754-8a521fc94901"
      },
      "execution_count": null,
      "outputs": [
        {
          "output_type": "execute_result",
          "data": {
            "text/plain": [
              "[1, 2, 3, 4, 5]"
            ]
          },
          "metadata": {},
          "execution_count": 14
        }
      ]
    },
    {
      "cell_type": "code",
      "source": [
        "#7. Write a code to append the number 10 to the list [1, 2, 3, 4].\n",
        "\n",
        "new_list= [1,2,3,4]\n",
        "new_list.append(10)\n",
        "print(new_list)"
      ],
      "metadata": {
        "colab": {
          "base_uri": "https://localhost:8080/"
        },
        "id": "F20cbEnrFnmv",
        "outputId": "f89aad05-0bea-4a2a-b1b5-368ee9e0eee4"
      },
      "execution_count": null,
      "outputs": [
        {
          "output_type": "stream",
          "name": "stdout",
          "text": [
            "[1, 2, 3, 4, 10]\n"
          ]
        }
      ]
    },
    {
      "cell_type": "code",
      "source": [
        "#8. Write a code to remove the number 3 from the list [1, 2, 3, 4, 5].\n",
        "\n",
        "list1= [1,2,3,4,5]\n",
        "list1.remove(3)\n",
        "list1\n"
      ],
      "metadata": {
        "colab": {
          "base_uri": "https://localhost:8080/"
        },
        "id": "Xv8YUmHzFnpe",
        "outputId": "8e838a20-7e87-4dfa-95da-1f67e3b4d202"
      },
      "execution_count": null,
      "outputs": [
        {
          "output_type": "execute_result",
          "data": {
            "text/plain": [
              "[1, 2, 4, 5]"
            ]
          },
          "metadata": {},
          "execution_count": 16
        }
      ]
    },
    {
      "cell_type": "code",
      "source": [
        "#9. Write a code to access the second element in the list ['a', 'b', 'c', 'd'].\n",
        "\n",
        "list2= ['a', 'b', 'c', 'd']\n",
        "list2[1]"
      ],
      "metadata": {
        "colab": {
          "base_uri": "https://localhost:8080/",
          "height": 36
        },
        "id": "5-4gxq_2JVJL",
        "outputId": "17cfce13-0642-46c4-9c4a-a85413bfa6d7"
      },
      "execution_count": null,
      "outputs": [
        {
          "output_type": "execute_result",
          "data": {
            "text/plain": [
              "'b'"
            ],
            "application/vnd.google.colaboratory.intrinsic+json": {
              "type": "string"
            }
          },
          "metadata": {},
          "execution_count": 17
        }
      ]
    },
    {
      "cell_type": "code",
      "source": [
        "#10. Write a code to reverse the list [10, 20, 30, 40, 50].\n",
        "list3= [10, 20, 30, 40, 50]\n",
        "list3[::-1]"
      ],
      "metadata": {
        "colab": {
          "base_uri": "https://localhost:8080/"
        },
        "id": "NG-g3K1AFnsn",
        "outputId": "50de4795-271d-408b-e475-89cd9979c97a"
      },
      "execution_count": null,
      "outputs": [
        {
          "output_type": "execute_result",
          "data": {
            "text/plain": [
              "[50, 40, 30, 20, 10]"
            ]
          },
          "metadata": {},
          "execution_count": 18
        }
      ]
    },
    {
      "cell_type": "code",
      "source": [
        "#11. Write a code to create a tuple with the elements 100, 200, 300 and print it.\n",
        "tuple1= (100,200,300)\n",
        "print(tuple1)\n"
      ],
      "metadata": {
        "colab": {
          "base_uri": "https://localhost:8080/"
        },
        "id": "vnUODdiUFnvj",
        "outputId": "8777f2d4-db5d-4e30-d116-602cd721443c"
      },
      "execution_count": null,
      "outputs": [
        {
          "output_type": "stream",
          "name": "stdout",
          "text": [
            "(100, 200, 300)\n"
          ]
        }
      ]
    },
    {
      "cell_type": "code",
      "source": [
        "#12. Write a code to access the second-to-last element of the tuple ('red', 'green', 'blue', 'yellow').\n",
        "tuple2= ('red', 'green', 'blue', 'yellow')\n",
        "tuple2[1:]"
      ],
      "metadata": {
        "colab": {
          "base_uri": "https://localhost:8080/"
        },
        "id": "UHGm-pzPFnym",
        "outputId": "87ca9ef7-7c31-4002-8122-6e41c64c4719"
      },
      "execution_count": null,
      "outputs": [
        {
          "output_type": "execute_result",
          "data": {
            "text/plain": [
              "('green', 'blue', 'yellow')"
            ]
          },
          "metadata": {},
          "execution_count": 21
        }
      ]
    },
    {
      "cell_type": "code",
      "source": [
        "#13. Write a code to find the minimum number in the tuple (10, 20, 5, 15).\n",
        "tuple3= (10, 20, 5, 15)\n",
        "minimum_number = min(tuple3)\n",
        "print(minimum_number)"
      ],
      "metadata": {
        "colab": {
          "base_uri": "https://localhost:8080/"
        },
        "id": "QyDUsgjgFn1J",
        "outputId": "44c6dd0d-6014-4b37-dac5-ae04207d090f"
      },
      "execution_count": null,
      "outputs": [
        {
          "output_type": "stream",
          "name": "stdout",
          "text": [
            "5\n"
          ]
        }
      ]
    },
    {
      "cell_type": "code",
      "source": [
        "#14. Write a code to find the index of the element \"cat\" in the tuple ('dog', 'cat', 'rabbit').\n",
        "cat_tuple= ('dog', 'cat', 'rabbit')\n",
        "cat_tuple.index(\"cat\")"
      ],
      "metadata": {
        "colab": {
          "base_uri": "https://localhost:8080/"
        },
        "id": "Zz3Bj2AGFn4k",
        "outputId": "7bef1b45-8db2-46fb-8efd-e301805a732d"
      },
      "execution_count": null,
      "outputs": [
        {
          "output_type": "execute_result",
          "data": {
            "text/plain": [
              "1"
            ]
          },
          "metadata": {},
          "execution_count": 25
        }
      ]
    },
    {
      "cell_type": "code",
      "source": [
        "#15. Write a code to create a tuple containing three different fruits and check if \"kiwi\" is in it.\n",
        "\n",
        "fruits= ('apple', \"kiwi\", \"banana\")\n",
        "if 'kiwi' in fruits:\n",
        "  print(\"kiwi is in the tuple\")\n",
        "else:\n",
        "  print(\"kiwi is not in the tuple\")"
      ],
      "metadata": {
        "colab": {
          "base_uri": "https://localhost:8080/"
        },
        "id": "cObxvP2WFn7d",
        "outputId": "65862407-4676-4b43-c74b-4761d04d09e5"
      },
      "execution_count": null,
      "outputs": [
        {
          "output_type": "stream",
          "name": "stdout",
          "text": [
            "kiwi is in the tuple\n"
          ]
        }
      ]
    },
    {
      "cell_type": "code",
      "source": [
        "#16. Write a code to create a set with the elements 'a', 'b', 'c' and print it.\n",
        "\n",
        "set1= {'a', 'b', 'c'}\n",
        "print(set1)"
      ],
      "metadata": {
        "colab": {
          "base_uri": "https://localhost:8080/"
        },
        "id": "MWEL5VLqFn-o",
        "outputId": "a11227c3-fa33-49bb-c7b9-aa7593f737f1"
      },
      "execution_count": null,
      "outputs": [
        {
          "output_type": "stream",
          "name": "stdout",
          "text": [
            "{'b', 'a', 'c'}\n"
          ]
        }
      ]
    },
    {
      "cell_type": "code",
      "source": [
        "#17. Write a code to clear all elements from the set {1, 2, 3, 4, 5}.\n",
        "set2= {1, 2, 3, 4, 5}\n",
        "set2.clear()\n",
        "print(set2)"
      ],
      "metadata": {
        "colab": {
          "base_uri": "https://localhost:8080/"
        },
        "id": "hPen8uJUFoBk",
        "outputId": "39c4f3a5-5264-4eff-dbc4-367d9d4f2e30"
      },
      "execution_count": null,
      "outputs": [
        {
          "output_type": "stream",
          "name": "stdout",
          "text": [
            "set()\n"
          ]
        }
      ]
    },
    {
      "cell_type": "code",
      "source": [
        "#18. Write a code to remove the element 4 from the set {1, 2, 3, 4}.\n",
        "set3= {1,2,3,4}\n",
        "set3.remove(4)\n",
        "print(set3)"
      ],
      "metadata": {
        "colab": {
          "base_uri": "https://localhost:8080/"
        },
        "id": "A9UkMa5sFoE2",
        "outputId": "9aeaf3c7-e0c7-45e6-aeb0-eb4d219a46e4"
      },
      "execution_count": null,
      "outputs": [
        {
          "output_type": "stream",
          "name": "stdout",
          "text": [
            "{1, 2, 3}\n"
          ]
        }
      ]
    },
    {
      "cell_type": "code",
      "source": [
        "#19. Write a code to find the union of two sets {1, 2, 3} and {3, 4, 5}.\n",
        "new_set= {1,2,3}\n",
        "new_set2= {3,4,5}\n",
        "new_set.union(new_set2)"
      ],
      "metadata": {
        "colab": {
          "base_uri": "https://localhost:8080/"
        },
        "id": "OJ1alSqnFoHp",
        "outputId": "96043450-024c-4ff4-c85d-dc19215ae3d5"
      },
      "execution_count": null,
      "outputs": [
        {
          "output_type": "execute_result",
          "data": {
            "text/plain": [
              "{1, 2, 3, 4, 5}"
            ]
          },
          "metadata": {},
          "execution_count": 36
        }
      ]
    },
    {
      "cell_type": "code",
      "source": [
        "#20. Write a code to find the intersection of two sets {1, 2, 3} and {2, 3, 4}.\n",
        "set_int= {1,2,3}\n",
        "set_int2= {2,3,4}\n",
        "set_int.intersection(set_int2)"
      ],
      "metadata": {
        "colab": {
          "base_uri": "https://localhost:8080/"
        },
        "id": "elyiRUWRFoKl",
        "outputId": "37adcc89-3182-47a9-b5ca-98519b7f651f"
      },
      "execution_count": null,
      "outputs": [
        {
          "output_type": "execute_result",
          "data": {
            "text/plain": [
              "{2, 3}"
            ]
          },
          "metadata": {},
          "execution_count": 38
        }
      ]
    },
    {
      "cell_type": "code",
      "source": [
        "#21. Write a code to create a dictionary with the keys \"name\", \"age\", and \"city\", and print it.\n",
        "\n",
        "new_dict= {\"name\": \"John\", \"age\": 25, \"city\": \"New York\"}\n",
        "print(new_dict)"
      ],
      "metadata": {
        "colab": {
          "base_uri": "https://localhost:8080/"
        },
        "id": "NQG7yo9DFoNn",
        "outputId": "1aca8ff6-79f7-4ab9-d81e-ad9aa46c98c1"
      },
      "execution_count": null,
      "outputs": [
        {
          "output_type": "stream",
          "name": "stdout",
          "text": [
            "{'name': 'John', 'age': 25, 'city': 'New York'}\n"
          ]
        }
      ]
    },
    {
      "cell_type": "code",
      "source": [
        "#22. Write a code to add a new key-value pair \"country\": \"USA\" to the dictionary {'name': 'John', 'age': 25}.\n",
        "\n",
        "new_dict[\"Country\"]= \"USA\"\n",
        "new_dict"
      ],
      "metadata": {
        "colab": {
          "base_uri": "https://localhost:8080/"
        },
        "id": "HC1yU34Hd1DZ",
        "outputId": "dd75727b-cdaa-4123-c217-03f8d9659e24"
      },
      "execution_count": null,
      "outputs": [
        {
          "output_type": "execute_result",
          "data": {
            "text/plain": [
              "{'name': 'John', 'age': 25, 'city': 'New York', 'Country': 'USA'}"
            ]
          },
          "metadata": {},
          "execution_count": 43
        }
      ]
    },
    {
      "cell_type": "code",
      "source": [
        "#23. Write a code to access the value associated with the key \"name\" in the dictionary {'name': 'Alice', 'age': 30}.\n",
        "dictionary= {'name': 'Alice', 'age': 30}\n",
        "a= dictionary.get(\"name\")\n",
        "print(a)"
      ],
      "metadata": {
        "colab": {
          "base_uri": "https://localhost:8080/"
        },
        "id": "c9c82nNFd1HJ",
        "outputId": "7a1e4887-70c5-4944-9d4e-5d344ef38393"
      },
      "execution_count": null,
      "outputs": [
        {
          "output_type": "stream",
          "name": "stdout",
          "text": [
            "Alice\n"
          ]
        }
      ]
    },
    {
      "cell_type": "code",
      "source": [
        "#24. Write a code to remove the key \"age\" from the dictionary {'name': 'Bob', 'age': 22, 'city': 'New York'}.\n",
        "\n",
        "new_dict2= {'name': 'Bob', 'age': 22, 'city': 'New York'}\n",
        "removed= new_dict2.pop('age')\n",
        "print(new_dict2)"
      ],
      "metadata": {
        "colab": {
          "base_uri": "https://localhost:8080/"
        },
        "id": "lGS5Cq0ud1J_",
        "outputId": "07eddfe5-d143-4b94-d464-e51774b59e32"
      },
      "execution_count": null,
      "outputs": [
        {
          "output_type": "stream",
          "name": "stdout",
          "text": [
            "{'name': 'Bob', 'city': 'New York'}\n"
          ]
        }
      ]
    },
    {
      "cell_type": "code",
      "source": [
        "#25. Write a code to check if the key \"city\" exists in the dictionary {'name': 'Alice', 'city': 'Paris'}.\n",
        "country_dict= {'name': 'Alice', 'city': 'Paris'}\n",
        "\n",
        "if k==\"city\" in country_dict:\n",
        "  print(f\"{k} exists in Dictionary\")\n",
        "else:\n",
        "  print(f\"{k} doesnot exists\")"
      ],
      "metadata": {
        "colab": {
          "base_uri": "https://localhost:8080/"
        },
        "id": "myyNOa5-d1M5",
        "outputId": "102611d4-8a2a-49f5-d7b3-5e58de3f80a1"
      },
      "execution_count": null,
      "outputs": [
        {
          "output_type": "stream",
          "name": "stdout",
          "text": [
            "city exists in Dictionary\n"
          ]
        }
      ]
    },
    {
      "cell_type": "code",
      "source": [
        "#26. Write a code to create a list, a tuple, and a dictionary, and print them all.\n",
        "\n",
        "a = input(\"Enter list elements separated by spaces: \").split()\n",
        "b = tuple(input(\"Enter tuple elements separated by spaces: \").split())\n",
        "c = {}\n",
        "n = int(input(\"How many key-value pairs for the dictionary? \"))\n",
        "for k in range(n):\n",
        "    key = input(\"Enter key: \")\n",
        "    value = input(\"Enter value: \")\n",
        "    c[key] = value\n",
        "\n",
        "print(\"List is:\", a)\n",
        "print(\"Tuple is:\", b)\n",
        "print(\"Dictionary is:\", c)\n"
      ],
      "metadata": {
        "id": "5xP8yQ9qd1Va",
        "colab": {
          "base_uri": "https://localhost:8080/"
        },
        "outputId": "cc11f56f-fadc-4ee0-a87f-abb490c4fe73"
      },
      "execution_count": null,
      "outputs": [
        {
          "output_type": "stream",
          "name": "stdout",
          "text": [
            "Enter list elements separated by spaces: 1 apple 6\n",
            "Enter tuple elements separated by spaces: 5 toy 7\n",
            "How many key-value pairs for the dictionary? 2\n",
            "Enter key: name\n",
            "Enter value: sourav\n",
            "Enter key: age \n",
            "Enter value: 18\n",
            "List is: ['1', 'apple', '6']\n",
            "Tuple is: ('5', 'toy', '7')\n",
            "Dictionary is: {'name': 'sourav', 'age ': '18'}\n"
          ]
        }
      ]
    },
    {
      "cell_type": "code",
      "source": [
        "#27. Write a code to create a list of 5 random numbers between 1 and 100, sort it in ascending order, and print the result.\n",
        "\n",
        "import random\n",
        "num= [random.randint(1,100) for i in range(5)]\n",
        "print(\"Original:\",num)\n",
        "\n",
        "num.sort()\n",
        "print(\"Sorted:\",num)"
      ],
      "metadata": {
        "id": "I3qrn3IRd1YX",
        "colab": {
          "base_uri": "https://localhost:8080/"
        },
        "outputId": "f9a93e25-f70e-4aed-c4d2-b8a2df64c190"
      },
      "execution_count": null,
      "outputs": [
        {
          "output_type": "stream",
          "name": "stdout",
          "text": [
            "Original: [16, 18, 58, 8, 53]\n",
            "Sorted: [8, 16, 18, 53, 58]\n"
          ]
        }
      ]
    },
    {
      "cell_type": "code",
      "source": [
        "#28. Write a code to create a list with strings and print the element at the third index.\n",
        "\n",
        "c=input(\"Enter elements for list:\").split()\n",
        "print(c)\n",
        "\n",
        "print(c[3])\n"
      ],
      "metadata": {
        "id": "nHUvpsJfd1bd",
        "colab": {
          "base_uri": "https://localhost:8080/"
        },
        "outputId": "791072a2-3048-4da9-968c-1361250e89b0"
      },
      "execution_count": null,
      "outputs": [
        {
          "output_type": "stream",
          "name": "stdout",
          "text": [
            "Enter elements for list:apple ball banana toy hi\n",
            "['apple', 'ball', 'banana', 'toy', 'hi']\n",
            "toy\n"
          ]
        }
      ]
    },
    {
      "cell_type": "code",
      "source": [
        "#29. Write a code to combine two dictionaries into one and print the result\n",
        "\n",
        "dict1= {\"name\":\"Sourav\",\"age\":\"19\"}\n",
        "dct2= {\"country\":\"Japan\",\"Citizenship\":\"Indian\"}\n",
        "copied = dict1.copy()\n",
        "copied.update(dct2)\n",
        "print(copied)\n"
      ],
      "metadata": {
        "colab": {
          "base_uri": "https://localhost:8080/"
        },
        "id": "4foHrv2Wyt9P",
        "outputId": "d1126de9-9794-44d4-c237-b9b87685cd22"
      },
      "execution_count": null,
      "outputs": [
        {
          "output_type": "stream",
          "name": "stdout",
          "text": [
            "{'name': 'Sourav', 'age': '19', 'country': 'Japan', 'Citizenship': 'Indian'}\n"
          ]
        }
      ]
    },
    {
      "cell_type": "code",
      "source": [
        "#30. Write a code to convert a list of strings into a set.\n",
        "my_list= [\"apple\", \"banana\",\"mango\"]\n",
        "my_set= set(my_list)\n",
        "print(my_set)"
      ],
      "metadata": {
        "colab": {
          "base_uri": "https://localhost:8080/"
        },
        "id": "7rdBwiVT0Pm5",
        "outputId": "e8cc61c4-1db3-4cf9-81a0-dceebb33fb3d"
      },
      "execution_count": null,
      "outputs": [
        {
          "output_type": "stream",
          "name": "stdout",
          "text": [
            "{'banana', 'mango', 'apple'}\n"
          ]
        }
      ]
    }
  ]
}